{
 "cells": [
  {
   "cell_type": "markdown",
   "metadata": {},
   "source": [
    "Howework 4- Justin Talbot"
   ]
  },
  {
   "cell_type": "code",
   "execution_count": 1,
   "metadata": {},
   "outputs": [
    {
     "name": "stdout",
     "output_type": "stream",
     "text": [
      "100% [..........................................................................] 1475504 / 1475504"
     ]
    },
    {
     "data": {
      "text/plain": [
       "'data (3).csv'"
      ]
     },
     "execution_count": 1,
     "metadata": {},
     "output_type": "execute_result"
    }
   ],
   "source": [
    "import wget\n",
    "wget.download('https://raw.githubusercontent.com/alexeygrigorev/mlbookcamp-code/master/chapter-02-car-price/data.csv')"
   ]
  },
  {
   "cell_type": "code",
   "execution_count": 11,
   "metadata": {},
   "outputs": [],
   "source": [
    "import pandas as pd\n",
    "df = pd.read_csv('data.csv')\n"
   ]
  },
  {
   "cell_type": "code",
   "execution_count": 12,
   "metadata": {},
   "outputs": [],
   "source": [
    "df = df[['Make',\n",
    "'Model',\n",
    "'Year',\n",
    "'Engine HP',\n",
    "'Engine Cylinders',\n",
    "'Transmission Type',\n",
    "'Vehicle Style',\n",
    "'highway MPG',\n",
    "'city mpg',\n",
    "'MSRP']]"
   ]
  },
  {
   "cell_type": "code",
   "execution_count": 13,
   "metadata": {},
   "outputs": [],
   "source": [
    "df.columns = df.columns.str.replace(' ', '_').str.lower()"
   ]
  },
  {
   "cell_type": "code",
   "execution_count": 15,
   "metadata": {},
   "outputs": [
    {
     "data": {
      "text/plain": [
       "make                  0\n",
       "model                 0\n",
       "year                  0\n",
       "engine_hp            69\n",
       "engine_cylinders     30\n",
       "transmission_type     0\n",
       "vehicle_style         0\n",
       "highway_mpg           0\n",
       "city_mpg              0\n",
       "msrp                  0\n",
       "dtype: int64"
      ]
     },
     "execution_count": 15,
     "metadata": {},
     "output_type": "execute_result"
    }
   ],
   "source": [
    "df.isnull().sum()"
   ]
  },
  {
   "cell_type": "code",
   "execution_count": 16,
   "metadata": {},
   "outputs": [],
   "source": [
    "df['engine_hp'] = df['engine_hp'].fillna(0).values"
   ]
  },
  {
   "cell_type": "code",
   "execution_count": 17,
   "metadata": {},
   "outputs": [],
   "source": [
    "df['engine_cylinders'] = df['engine_cylinders'].fillna(0).values"
   ]
  },
  {
   "cell_type": "code",
   "execution_count": 22,
   "metadata": {},
   "outputs": [],
   "source": [
    "mean = df.describe()['msrp']['mean']"
   ]
  },
  {
   "cell_type": "code",
   "execution_count": 25,
   "metadata": {},
   "outputs": [],
   "source": [
    " def above_average(msrp):\n",
    "    return 1 if msrp >= mean else 0"
   ]
  },
  {
   "cell_type": "code",
   "execution_count": 26,
   "metadata": {},
   "outputs": [],
   "source": [
    "df['above_average'] = df['msrp'].apply(above_average)"
   ]
  },
  {
   "cell_type": "code",
   "execution_count": 30,
   "metadata": {},
   "outputs": [],
   "source": [
    "from sklearn.model_selection import train_test_split\n",
    "\n",
    "df_full_train, df_test = train_test_split(df, test_size=0.2, random_state=1)\n",
    "df_train, df_val = train_test_split(df_full_train, test_size=0.25, random_state=1)\n",
    "\n",
    "df_train = df_train.reset_index(drop=True)\n",
    "df_val = df_val.reset_index(drop=True)\n",
    "df_test = df_test.reset_index(drop=True)\n",
    "\n",
    "y_train = df_train.above_average.values\n",
    "y_val = df_val.above_average.values\n",
    "y_test = df_test.above_average.values\n",
    "\n",
    "del df_train['above_average']\n",
    "del df_val['above_average']\n",
    "del df_test['above_average']"
   ]
  },
  {
   "cell_type": "code",
   "execution_count": 32,
   "metadata": {
    "scrolled": true
   },
   "outputs": [
    {
     "data": {
      "text/plain": [
       "make                  object\n",
       "model                 object\n",
       "year                   int64\n",
       "engine_hp            float64\n",
       "engine_cylinders     float64\n",
       "transmission_type     object\n",
       "vehicle_style         object\n",
       "highway_mpg            int64\n",
       "city_mpg               int64\n",
       "msrp                   int64\n",
       "above_average          int64\n",
       "dtype: object"
      ]
     },
     "execution_count": 32,
     "metadata": {},
     "output_type": "execute_result"
    }
   ],
   "source": [
    "df.dtypes"
   ]
  },
  {
   "cell_type": "code",
   "execution_count": 33,
   "metadata": {},
   "outputs": [],
   "source": [
    "categorical = ['make','model','transmission_type','vehicle_style']\n",
    "numerical = ['year','engine_hp','engine_cylinders','highway_mpg','city_mpg']"
   ]
  },
  {
   "cell_type": "markdown",
   "metadata": {},
   "source": [
    "Q1"
   ]
  },
  {
   "cell_type": "code",
   "execution_count": 47,
   "metadata": {},
   "outputs": [
    {
     "data": {
      "text/plain": [
       "[('engine_hp', 0.917),\n",
       " ('engine_cylinders', 0.766),\n",
       " ('year', 0.688),\n",
       " ('city_mpg', 0.673),\n",
       " ('highway_mpg', 0.633)]"
      ]
     },
     "execution_count": 47,
     "metadata": {},
     "output_type": "execute_result"
    }
   ],
   "source": [
    "from sklearn.metrics import roc_auc_score\n",
    "roc_scores = []\n",
    "for column in numerical:\n",
    "    auc = roc_auc_score(y_train, df_train[column])\n",
    "    if auc < .5:\n",
    "        auc = roc_auc_score(y_train, -df_train[column])\n",
    "    roc_scores.append((column, auc.round(3)))\n",
    "roc_scores.sort(key=lambda x: x[1], reverse=True)\n",
    "roc_scores"
   ]
  },
  {
   "cell_type": "markdown",
   "metadata": {},
   "source": [
    "Q2"
   ]
  },
  {
   "cell_type": "code",
   "execution_count": 77,
   "metadata": {},
   "outputs": [
    {
     "data": {
      "text/plain": [
       "LogisticRegression(max_iter=1000, solver='liblinear')"
      ]
     },
     "execution_count": 77,
     "metadata": {},
     "output_type": "execute_result"
    }
   ],
   "source": [
    "from sklearn.feature_extraction import DictVectorizer\n",
    "from sklearn.linear_model import LogisticRegression\n",
    "\n",
    "dv = DictVectorizer(sparse=False)\n",
    "train_dict = df_train[categorical + numerical].to_dict(orient='records')\n",
    "X_train = dv.fit_transform(train_dict)\n",
    "\n",
    "model = LogisticRegression(solver='liblinear', C=1.0, max_iter=1000)\n",
    "model.fit(X_train, y_train)"
   ]
  },
  {
   "cell_type": "code",
   "execution_count": 78,
   "metadata": {},
   "outputs": [],
   "source": [
    "val_dict = df_val[categorical + numerical].to_dict(orient='records')\n",
    "X_val = dv.transform(val_dict)\n",
    "\n",
    "y_pred = model.predict_proba(X_val)[:, 1]"
   ]
  },
  {
   "cell_type": "code",
   "execution_count": 52,
   "metadata": {},
   "outputs": [
    {
     "data": {
      "text/plain": [
       "0.9790257223864177"
      ]
     },
     "execution_count": 52,
     "metadata": {},
     "output_type": "execute_result"
    }
   ],
   "source": [
    "roc_auc_score(y_val, y_pred)"
   ]
  },
  {
   "cell_type": "markdown",
   "metadata": {},
   "source": [
    "Q3"
   ]
  },
  {
   "cell_type": "code",
   "execution_count": 79,
   "metadata": {},
   "outputs": [],
   "source": [
    "import numpy as np\n",
    "thresholds = np.linspace(0, 1, 101)"
   ]
  },
  {
   "cell_type": "code",
   "execution_count": 82,
   "metadata": {},
   "outputs": [],
   "source": [
    "results = []\n",
    "for t in thresholds:\n",
    "    actual_pos = (y_val == 1)\n",
    "    actual_neg = (y_val == 0)\n",
    "\n",
    "    predict_pos = (y_pred >= t)\n",
    "    predict_neg = (y_pred < t)\n",
    "\n",
    "    tp = (predict_pos & actual_pos).sum()\n",
    "    tn = (predict_neg & actual_neg).sum()\n",
    "\n",
    "    fp = (predict_pos & actual_neg).sum()\n",
    "    fn = (predict_neg & actual_pos).sum()\n",
    "    \n",
    "    results.append((t,tp,fp,fn,tn))"
   ]
  },
  {
   "cell_type": "code",
   "execution_count": 87,
   "metadata": {},
   "outputs": [
    {
     "data": {
      "text/plain": [
       "<matplotlib.legend.Legend at 0x18d59058670>"
      ]
     },
     "execution_count": 87,
     "metadata": {},
     "output_type": "execute_result"
    },
    {
     "data": {
      "image/png": "[encoded data removed]",
      "text/plain": [
       "<Figure size 432x288 with 1 Axes>"
      ]
     },
     "metadata": {
      "needs_background": "light"
     },
     "output_type": "display_data"
    }
   ],
   "source": [
    "import matplotlib.pyplot as plt\n",
    "\n",
    "columns = ['threshold', 'tp', 'fp', 'fn', 'tn']\n",
    "df_results = pd.DataFrame(results, columns=columns)\n",
    "\n",
    "df_results['precision'] = df_results.tp / (df_results.tp + df_results.fp)\n",
    "df_results['recall'] = df_results.tp / (df_results.tp + df_results.fn)\n",
    "\n",
    "plt.plot(df_results.threshold, df_results['precision'], label='precision')\n",
    "plt.plot(df_results.threshold, df_results['recall'], label='recall')\n",
    "plt.legend()"
   ]
  },
  {
   "cell_type": "code",
   "execution_count": 95,
   "metadata": {},
   "outputs": [
    {
     "name": "stdout",
     "output_type": "stream",
     "text": [
      "0.46 -0.01\n",
      "0.47000000000000003 -0.0\n",
      "0.48 0.0\n",
      "0.49 0.0\n"
     ]
    }
   ],
   "source": [
    "for t in range(len(thresholds)):\n",
    "    diff = df_results['precision'][t] - df_results['recall'][t]\n",
    "    if -.01 < diff < .01:\n",
    "        print(thresholds[t], diff.round(2))"
   ]
  },
  {
   "cell_type": "markdown",
   "metadata": {},
   "source": [
    "Q4"
   ]
  },
  {
   "cell_type": "code",
   "execution_count": 109,
   "metadata": {},
   "outputs": [],
   "source": [
    "\n",
    "results = []\n",
    "for t in thresholds:\n",
    "    actual_pos = (y_val == 1)\n",
    "    actual_neg = (y_val == 0)\n",
    "\n",
    "    predict_pos = (y_pred >= t)\n",
    "    predict_neg = (y_pred < t)\n",
    "\n",
    "    tp = (predict_pos & actual_pos).sum()\n",
    "    tn = (predict_neg & actual_neg).sum()\n",
    "\n",
    "    fp = (predict_pos & actual_neg).sum()\n",
    "    fn = (predict_neg & actual_pos).sum()\n",
    "    \n",
    "    results.append((t,tp,fp,fn,tn))\n",
    "    \n",
    "columns = ['threshold', 'tp', 'fp', 'fn', 'tn']\n",
    "df_results = pd.DataFrame(results, columns=columns)\n",
    "\n",
    "df_results['precision'] = df_results.tp / (df_results.tp + df_results.fp)\n",
    "df_results['recall'] = df_results.tp / (df_results.tp + df_results.fn)\n",
    "\n",
    "df_results['F1'] = 2 * ((df_results.precision * df_results.recall)/(df_results.precision + df_results.recall))"
   ]
  },
  {
   "cell_type": "code",
   "execution_count": 110,
   "metadata": {},
   "outputs": [
    {
     "name": "stdout",
     "output_type": "stream",
     "text": [
      "0.0 0.43\n",
      "0.01 0.63\n",
      "0.02 0.67\n",
      "0.03 0.7\n",
      "0.04 0.72\n",
      "0.05 0.74\n",
      "0.06 0.75\n",
      "0.07 0.76\n",
      "0.08 0.77\n",
      "0.09 0.78\n",
      "0.1 0.79\n",
      "0.11 0.8\n",
      "0.12 0.81\n",
      "0.13 0.81\n",
      "0.14 0.82\n",
      "0.15 0.83\n",
      "0.16 0.83\n",
      "0.17 0.83\n",
      "0.18 0.84\n",
      "0.19 0.84\n",
      "0.2 0.84\n",
      "0.21 0.84\n",
      "0.22 0.85\n",
      "0.23 0.85\n",
      "0.24 0.85\n",
      "0.25 0.86\n",
      "0.26 0.86\n",
      "0.27 0.86\n",
      "0.28 0.86\n",
      "0.29 0.86\n",
      "0.3 0.86\n",
      "0.31 0.86\n",
      "0.32 0.87\n",
      "0.33 0.87\n",
      "0.34 0.87\n",
      "0.35000000000000003 0.87\n",
      "0.36 0.87\n",
      "0.37 0.87\n",
      "0.38 0.87\n",
      "0.39 0.87\n",
      "0.4 0.87\n",
      "0.41000000000000003 0.88\n",
      "0.42 0.88\n",
      "0.43 0.88\n",
      "0.44 0.88\n",
      "0.45 0.88\n",
      "0.46 0.88\n",
      "0.47000000000000003 0.88\n",
      "0.48 0.87\n",
      "0.49 0.88\n",
      "0.5 0.88\n",
      "0.51 0.88\n",
      "0.52 0.88\n",
      "0.53 0.88\n",
      "0.54 0.88\n",
      "0.55 0.88\n",
      "0.56 0.88\n",
      "0.5700000000000001 0.88\n",
      "0.58 0.88\n",
      "0.59 0.87\n",
      "0.6 0.88\n",
      "0.61 0.87\n",
      "0.62 0.87\n",
      "0.63 0.87\n",
      "0.64 0.87\n",
      "0.65 0.86\n",
      "0.66 0.86\n",
      "0.67 0.86\n",
      "0.68 0.86\n",
      "0.6900000000000001 0.85\n",
      "0.7000000000000001 0.85\n",
      "0.71 0.85\n",
      "0.72 0.84\n",
      "0.73 0.84\n",
      "0.74 0.84\n",
      "0.75 0.83\n",
      "0.76 0.83\n",
      "0.77 0.83\n",
      "0.78 0.82\n",
      "0.79 0.82\n",
      "0.8 0.81\n",
      "0.81 0.81\n",
      "0.8200000000000001 0.81\n",
      "0.8300000000000001 0.8\n",
      "0.84 0.79\n",
      "0.85 0.78\n",
      "0.86 0.77\n",
      "0.87 0.75\n",
      "0.88 0.74\n",
      "0.89 0.74\n",
      "0.9 0.73\n",
      "0.91 0.72\n",
      "0.92 0.7\n",
      "0.93 0.67\n",
      "0.9400000000000001 0.66\n",
      "0.9500000000000001 0.63\n",
      "0.96 0.6\n",
      "0.97 0.58\n",
      "0.98 0.53\n",
      "0.99 0.47\n",
      "1.0 nan\n"
     ]
    }
   ],
   "source": [
    "for t in range(len(thresholds)):\n",
    "    f1 = df_results['F1'][t]\n",
    "    print(thresholds[t], f1.round(2))"
   ]
  },
  {
   "cell_type": "markdown",
   "metadata": {},
   "source": [
    "Q5"
   ]
  },
  {
   "cell_type": "code",
   "execution_count": 120,
   "metadata": {},
   "outputs": [
    {
     "name": "stdout",
     "output_type": "stream",
     "text": [
      "C 0.98 0.0026\n"
     ]
    }
   ],
   "source": [
    "from sklearn.model_selection import KFold\n",
    "kfold = KFold(n_splits=5, shuffle=True, random_state=1)\n",
    "\n",
    "scores = []\n",
    "\n",
    "for train_idx, val_idx in kfold.split(df_full_train):\n",
    "    df_train = df_full_train.iloc[train_idx]\n",
    "    df_val = df_full_train.iloc[val_idx]\n",
    "    \n",
    "    y_train = df_train.above_average.values\n",
    "    y_val = df_val.above_average.values\n",
    "    \n",
    "    dicts = df_train[categorical + numerical].to_dict(orient='records')\n",
    "    X_train = dv.fit_transform(dicts)\n",
    "    \n",
    "    model = LogisticRegression(solver='liblinear', C=1.0, max_iter=1000)\n",
    "    model.fit(X_train,y_train)\n",
    "    \n",
    "    val_dicts = df_val[categorical + numerical].to_dict(orient='records')\n",
    "    X_val = dv.transform(val_dicts)\n",
    "    \n",
    "    y_pred = model.predict_proba(X_val)[:, 1]\n",
    "\n",
    "    \n",
    "    auc = roc_auc_score(y_val, y_pred)\n",
    "    scores.append(auc)\n",
    "print(np.mean(scores).round(2), np.std(scores).round(4))"
   ]
  },
  {
   "cell_type": "markdown",
   "metadata": {},
   "source": [
    "Q6"
   ]
  },
  {
   "cell_type": "code",
   "execution_count": 123,
   "metadata": {},
   "outputs": [
    {
     "name": "stdout",
     "output_type": "stream",
     "text": [
      "C: 0.01 0.952 0.0025\n",
      "C: 0.1 0.962 0.0103\n",
      "C: 0.5 0.968 0.012\n",
      "C: 10 0.972 0.0127\n"
     ]
    }
   ],
   "source": [
    "scores = []\n",
    "\n",
    "for C in [0.01, 0.1, 0.5, 10]:\n",
    "    for train_idx, val_idx in kfold.split(df_full_train):\n",
    "        df_train = df_full_train.iloc[train_idx]\n",
    "        df_val = df_full_train.iloc[val_idx]\n",
    "\n",
    "        y_train = df_train.above_average.values\n",
    "        y_val = df_val.above_average.values\n",
    "\n",
    "        dicts = df_train[categorical + numerical].to_dict(orient='records')\n",
    "        X_train = dv.fit_transform(dicts)\n",
    "\n",
    "        model = LogisticRegression(solver='liblinear', C=C, max_iter=1000)\n",
    "        model.fit(X_train,y_train)\n",
    "\n",
    "        val_dicts = df_val[categorical + numerical].to_dict(orient='records')\n",
    "        X_val = dv.transform(val_dicts)\n",
    "\n",
    "        y_pred = model.predict_proba(X_val)[:, 1]\n",
    "\n",
    "\n",
    "        auc = roc_auc_score(y_val, y_pred)\n",
    "        scores.append(auc)\n",
    "    print('C:',C,np.mean(scores).round(3), np.std(scores).round(4))"
   ]
  },
  {
   "cell_type": "code",
   "execution_count": null,
   "metadata": {},
   "outputs": [],
   "source": []
  }
 ],
 "metadata": {
  "kernelspec": {
   "display_name": "Python 3 (ipykernel)",
   "language": "python",
   "name": "python3"
  },
  "language_info": {
   "codemirror_mode": {
    "name": "ipython",
    "version": 3
   },
   "file_extension": ".py",
   "mimetype": "text/x-python",
   "name": "python",
   "nbconvert_exporter": "python",
   "pygments_lexer": "ipython3",
   "version": "3.9.7"
  }
 },
 "nbformat": 4,
 "nbformat_minor": 2
}
